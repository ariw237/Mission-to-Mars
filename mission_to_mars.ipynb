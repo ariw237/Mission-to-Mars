{
 "cells": [
  {
   "cell_type": "code",
   "execution_count": 17,
   "id": "e6fa7066",
   "metadata": {},
   "outputs": [],
   "source": [
    "#Import our dependencies\n",
    "from splinter import Browser\n",
    "from bs4 import BeautifulSoup as soup\n",
    "from webdriver_manager.chrome import ChromeDriverManager\n",
    "import pandas as pd"
   ]
  },
  {
   "cell_type": "code",
   "execution_count": 2,
   "id": "ea4188e1",
   "metadata": {},
   "outputs": [
    {
     "name": "stderr",
     "output_type": "stream",
     "text": [
      "\n",
      "\n",
      "====== WebDriver manager ======\n",
      "Current google-chrome version is 96.0.4664\n",
      "Get LATEST chromedriver version for 96.0.4664 google-chrome\n",
      "Trying to download new driver from https://chromedriver.storage.googleapis.com/96.0.4664.45/chromedriver_win32.zip\n",
      "Driver has been saved in cache [C:\\Users\\Origin\\.wdm\\drivers\\chromedriver\\win32\\96.0.4664.45]\n"
     ]
    }
   ],
   "source": [
    "#Set a path to chrome and setup our url\n",
    "executable_path = {'executable_path': ChromeDriverManager().install()}\n",
    "browser = Browser('chrome', **executable_path, headless=False)"
   ]
  },
  {
   "cell_type": "code",
   "execution_count": 3,
   "id": "23cf47b2",
   "metadata": {},
   "outputs": [
    {
     "data": {
      "text/plain": [
       "True"
      ]
     },
     "execution_count": 3,
     "metadata": {},
     "output_type": "execute_result"
    }
   ],
   "source": [
    "#Visit the mars nasa news site\n",
    "url = 'https://redplanetscience.com'\n",
    "browser.visit(url)\n",
    "#set a slight delay in page loading\n",
    "browser.is_element_present_by_css('div.list_text', wait_time=1)"
   ]
  },
  {
   "cell_type": "markdown",
   "id": "502c7130",
   "metadata": {},
   "source": [
    "The final line of code in above cell searches tag: div and with class: item_list  "
   ]
  },
  {
   "cell_type": "code",
   "execution_count": 4,
   "id": "374d4038",
   "metadata": {},
   "outputs": [],
   "source": [
    "#Set up HTML parser\n",
    "html = browser.html\n",
    "news_soup = soup(html, 'html.parser')\n",
    "slide_elem = news_soup.select_one('div.list_text') #The parent element is stored in slide_elem"
   ]
  },
  {
   "cell_type": "code",
   "execution_count": 5,
   "id": "342b21e4",
   "metadata": {},
   "outputs": [
    {
     "data": {
      "text/plain": [
       "<div class=\"content_title\">NASA InSight's 'Mole' Is Out of Sight</div>"
      ]
     },
     "execution_count": 5,
     "metadata": {},
     "output_type": "execute_result"
    }
   ],
   "source": [
    "#Obtain the title of the first article:\n",
    "slide_elem.find('div', class_='content_title')"
   ]
  },
  {
   "cell_type": "code",
   "execution_count": 7,
   "id": "9453a5fa",
   "metadata": {},
   "outputs": [
    {
     "data": {
      "text/plain": [
       "\"NASA InSight's 'Mole' Is Out of Sight\""
      ]
     },
     "execution_count": 7,
     "metadata": {},
     "output_type": "execute_result"
    }
   ],
   "source": [
    "#Filter to get just the text of the title:\n",
    "news_title = slide_elem.find('div', class_='content_title').get_text()\n",
    "news_title"
   ]
  },
  {
   "cell_type": "code",
   "execution_count": 8,
   "id": "bde5f22a",
   "metadata": {},
   "outputs": [
    {
     "data": {
      "text/plain": [
       "\"Now that the heat probe is just below the Martian surface, InSight's arm will scoop some additional soil on top to help it keep digging so it can take Mars' temperature.\""
      ]
     },
     "execution_count": 8,
     "metadata": {},
     "output_type": "execute_result"
    }
   ],
   "source": [
    "#Get the summary of the first article\n",
    "news_p = slide_elem.find('div', class_='article_teaser_body').get_text()\n",
    "news_p"
   ]
  },
  {
   "cell_type": "markdown",
   "id": "8630a646",
   "metadata": {},
   "source": [
    "### Featured images"
   ]
  },
  {
   "cell_type": "code",
   "execution_count": 9,
   "id": "00bd0f62",
   "metadata": {},
   "outputs": [],
   "source": [
    "url = 'https://spaceimages-mars.com'\n",
    "browser.visit(url)"
   ]
  },
  {
   "cell_type": "code",
   "execution_count": 10,
   "id": "2c38be79",
   "metadata": {},
   "outputs": [
    {
     "data": {
      "text/plain": [
       "['__class__',\n",
       " '__delattr__',\n",
       " '__dict__',\n",
       " '__dir__',\n",
       " '__doc__',\n",
       " '__enter__',\n",
       " '__eq__',\n",
       " '__exit__',\n",
       " '__format__',\n",
       " '__ge__',\n",
       " '__getattribute__',\n",
       " '__gt__',\n",
       " '__hash__',\n",
       " '__init__',\n",
       " '__init_subclass__',\n",
       " '__le__',\n",
       " '__lt__',\n",
       " '__module__',\n",
       " '__ne__',\n",
       " '__new__',\n",
       " '__reduce__',\n",
       " '__reduce_ex__',\n",
       " '__repr__',\n",
       " '__setattr__',\n",
       " '__sizeof__',\n",
       " '__str__',\n",
       " '__subclasshook__',\n",
       " '__weakref__',\n",
       " '_cookie_manager',\n",
       " 'attach_file',\n",
       " 'back',\n",
       " 'check',\n",
       " 'choose',\n",
       " 'click_link_by_href',\n",
       " 'click_link_by_id',\n",
       " 'click_link_by_partial_href',\n",
       " 'click_link_by_partial_text',\n",
       " 'click_link_by_text',\n",
       " 'cookies',\n",
       " 'driver',\n",
       " 'driver_name',\n",
       " 'element_class',\n",
       " 'evaluate_script',\n",
       " 'execute_script',\n",
       " 'fill',\n",
       " 'fill_form',\n",
       " 'find_by',\n",
       " 'find_by_css',\n",
       " 'find_by_id',\n",
       " 'find_by_name',\n",
       " 'find_by_tag',\n",
       " 'find_by_text',\n",
       " 'find_by_value',\n",
       " 'find_by_xpath',\n",
       " 'find_link_by_href',\n",
       " 'find_link_by_partial_href',\n",
       " 'find_link_by_partial_text',\n",
       " 'find_link_by_text',\n",
       " 'find_option_by_text',\n",
       " 'find_option_by_value',\n",
       " 'forward',\n",
       " 'full_screen',\n",
       " 'get_alert',\n",
       " 'get_iframe',\n",
       " 'html',\n",
       " 'html_snapshot',\n",
       " 'is_element_not_present',\n",
       " 'is_element_not_present_by_css',\n",
       " 'is_element_not_present_by_id',\n",
       " 'is_element_not_present_by_name',\n",
       " 'is_element_not_present_by_tag',\n",
       " 'is_element_not_present_by_text',\n",
       " 'is_element_not_present_by_value',\n",
       " 'is_element_not_present_by_xpath',\n",
       " 'is_element_not_visible',\n",
       " 'is_element_not_visible_by_css',\n",
       " 'is_element_not_visible_by_xpath',\n",
       " 'is_element_present',\n",
       " 'is_element_present_by_css',\n",
       " 'is_element_present_by_id',\n",
       " 'is_element_present_by_name',\n",
       " 'is_element_present_by_tag',\n",
       " 'is_element_present_by_text',\n",
       " 'is_element_present_by_value',\n",
       " 'is_element_present_by_xpath',\n",
       " 'is_element_visible',\n",
       " 'is_element_visible_by_css',\n",
       " 'is_element_visible_by_xpath',\n",
       " 'is_text_not_present',\n",
       " 'is_text_present',\n",
       " 'links',\n",
       " 'new_tab',\n",
       " 'quit',\n",
       " 'recover_screen',\n",
       " 'reload',\n",
       " 'screenshot',\n",
       " 'select',\n",
       " 'select_by_text',\n",
       " 'status_code',\n",
       " 'title',\n",
       " 'type',\n",
       " 'uncheck',\n",
       " 'url',\n",
       " 'visit',\n",
       " 'wait_time',\n",
       " 'windows']"
      ]
     },
     "execution_count": 10,
     "metadata": {},
     "output_type": "execute_result"
    }
   ],
   "source": [
    "#browser has a lot of available methods and dunder methods\n",
    "dir(browser)"
   ]
  },
  {
   "cell_type": "code",
   "execution_count": 13,
   "id": "68ea4efa",
   "metadata": {},
   "outputs": [],
   "source": [
    "#find and click the full image button\n",
    "full_image_elem = browser.find_by_tag('button')[1] #First button element in webpage html\n",
    "full_image_elem.click()"
   ]
  },
  {
   "cell_type": "code",
   "execution_count": 14,
   "id": "8a02bda0",
   "metadata": {},
   "outputs": [],
   "source": [
    "html = browser.html\n",
    "img_soup = soup(html, 'html.parser')"
   ]
  },
  {
   "cell_type": "code",
   "execution_count": 15,
   "id": "68e7f054",
   "metadata": {},
   "outputs": [
    {
     "data": {
      "text/plain": [
       "'image/featured/mars2.jpg'"
      ]
     },
     "execution_count": 15,
     "metadata": {},
     "output_type": "execute_result"
    }
   ],
   "source": [
    "#Find the relative (featured) image url:\n",
    "img_url_rel = img_soup.find('img', class_='fancybox-image').get('src')\n",
    "img_url_rel\n",
    "#Note that get('src') pulls a link to that image"
   ]
  },
  {
   "cell_type": "code",
   "execution_count": 16,
   "id": "95530f31",
   "metadata": {},
   "outputs": [
    {
     "data": {
      "text/plain": [
       "'https://spaceimages-mars.com/image/featured/mars2.jpg'"
      ]
     },
     "execution_count": 16,
     "metadata": {},
     "output_type": "execute_result"
    }
   ],
   "source": [
    "#Now we need to add this to the base url to get a complete url:\n",
    "img_url = f'https://spaceimages-mars.com/{img_url_rel}'\n",
    "img_url\n",
    "\n"
   ]
  },
  {
   "cell_type": "code",
   "execution_count": 18,
   "id": "756d205e",
   "metadata": {},
   "outputs": [
    {
     "data": {
      "text/html": [
       "<div>\n",
       "<style scoped>\n",
       "    .dataframe tbody tr th:only-of-type {\n",
       "        vertical-align: middle;\n",
       "    }\n",
       "\n",
       "    .dataframe tbody tr th {\n",
       "        vertical-align: top;\n",
       "    }\n",
       "\n",
       "    .dataframe thead th {\n",
       "        text-align: right;\n",
       "    }\n",
       "</style>\n",
       "<table border=\"1\" class=\"dataframe\">\n",
       "  <thead>\n",
       "    <tr style=\"text-align: right;\">\n",
       "      <th></th>\n",
       "      <th>Mars</th>\n",
       "      <th>Earth</th>\n",
       "    </tr>\n",
       "    <tr>\n",
       "      <th>description</th>\n",
       "      <th></th>\n",
       "      <th></th>\n",
       "    </tr>\n",
       "  </thead>\n",
       "  <tbody>\n",
       "    <tr>\n",
       "      <th>Mars - Earth Comparison</th>\n",
       "      <td>Mars</td>\n",
       "      <td>Earth</td>\n",
       "    </tr>\n",
       "    <tr>\n",
       "      <th>Diameter:</th>\n",
       "      <td>6,779 km</td>\n",
       "      <td>12,742 km</td>\n",
       "    </tr>\n",
       "    <tr>\n",
       "      <th>Mass:</th>\n",
       "      <td>6.39 × 10^23 kg</td>\n",
       "      <td>5.97 × 10^24 kg</td>\n",
       "    </tr>\n",
       "    <tr>\n",
       "      <th>Moons:</th>\n",
       "      <td>2</td>\n",
       "      <td>1</td>\n",
       "    </tr>\n",
       "    <tr>\n",
       "      <th>Distance from Sun:</th>\n",
       "      <td>227,943,824 km</td>\n",
       "      <td>149,598,262 km</td>\n",
       "    </tr>\n",
       "    <tr>\n",
       "      <th>Length of Year:</th>\n",
       "      <td>687 Earth days</td>\n",
       "      <td>365.24 days</td>\n",
       "    </tr>\n",
       "    <tr>\n",
       "      <th>Temperature:</th>\n",
       "      <td>-87 to -5 °C</td>\n",
       "      <td>-88 to 58°C</td>\n",
       "    </tr>\n",
       "  </tbody>\n",
       "</table>\n",
       "</div>"
      ],
      "text/plain": [
       "                                    Mars            Earth\n",
       "description                                              \n",
       "Mars - Earth Comparison             Mars            Earth\n",
       "Diameter:                       6,779 km        12,742 km\n",
       "Mass:                    6.39 × 10^23 kg  5.97 × 10^24 kg\n",
       "Moons:                                 2                1\n",
       "Distance from Sun:        227,943,824 km   149,598,262 km\n",
       "Length of Year:           687 Earth days      365.24 days\n",
       "Temperature:                -87 to -5 °C      -88 to 58°C"
      ]
     },
     "execution_count": 18,
     "metadata": {},
     "output_type": "execute_result"
    }
   ],
   "source": [
    "#We are now going to scrape the mars facts table from https://galaxyfacts-mars.com/\n",
    "#read_html will automatically print all tables found in a particular html\n",
    "df = pd.read_html('https://galaxyfacts-mars.com/')[0]  #The zero tell pandas to import first table it sees\n",
    "df.columns=['description', 'Mars', 'Earth']\n",
    "df.set_index('description', inplace = True)\n",
    "df"
   ]
  },
  {
   "cell_type": "code",
   "execution_count": 19,
   "id": "5e939df9",
   "metadata": {},
   "outputs": [
    {
     "data": {
      "text/plain": [
       "'<table border=\"1\" class=\"dataframe\">\\n  <thead>\\n    <tr style=\"text-align: right;\">\\n      <th></th>\\n      <th>Mars</th>\\n      <th>Earth</th>\\n    </tr>\\n    <tr>\\n      <th>description</th>\\n      <th></th>\\n      <th></th>\\n    </tr>\\n  </thead>\\n  <tbody>\\n    <tr>\\n      <th>Mars - Earth Comparison</th>\\n      <td>Mars</td>\\n      <td>Earth</td>\\n    </tr>\\n    <tr>\\n      <th>Diameter:</th>\\n      <td>6,779 km</td>\\n      <td>12,742 km</td>\\n    </tr>\\n    <tr>\\n      <th>Mass:</th>\\n      <td>6.39 × 10^23 kg</td>\\n      <td>5.97 × 10^24 kg</td>\\n    </tr>\\n    <tr>\\n      <th>Moons:</th>\\n      <td>2</td>\\n      <td>1</td>\\n    </tr>\\n    <tr>\\n      <th>Distance from Sun:</th>\\n      <td>227,943,824 km</td>\\n      <td>149,598,262 km</td>\\n    </tr>\\n    <tr>\\n      <th>Length of Year:</th>\\n      <td>687 Earth days</td>\\n      <td>365.24 days</td>\\n    </tr>\\n    <tr>\\n      <th>Temperature:</th>\\n      <td>-87 to -5 °C</td>\\n      <td>-88 to 58°C</td>\\n    </tr>\\n  </tbody>\\n</table>'"
      ]
     },
     "execution_count": 19,
     "metadata": {},
     "output_type": "execute_result"
    }
   ],
   "source": [
    "#We can convert the dataframe back to html format:\n",
    "df.to_html()"
   ]
  },
  {
   "cell_type": "code",
   "execution_count": 20,
   "id": "85d24405",
   "metadata": {},
   "outputs": [],
   "source": [
    "#End our session (very important as it shuts down the automated browser)\n",
    "browser.quit()"
   ]
  },
  {
   "cell_type": "code",
   "execution_count": null,
   "id": "6def87f9",
   "metadata": {},
   "outputs": [],
   "source": [
    "#We can convert this entire notebook into a .py file by using the file download menu"
   ]
  }
 ],
 "metadata": {
  "kernelspec": {
   "display_name": "PythonData",
   "language": "python",
   "name": "pythondata"
  },
  "language_info": {
   "codemirror_mode": {
    "name": "ipython",
    "version": 3
   },
   "file_extension": ".py",
   "mimetype": "text/x-python",
   "name": "python",
   "nbconvert_exporter": "python",
   "pygments_lexer": "ipython3",
   "version": "3.7.10"
  }
 },
 "nbformat": 4,
 "nbformat_minor": 5
}
